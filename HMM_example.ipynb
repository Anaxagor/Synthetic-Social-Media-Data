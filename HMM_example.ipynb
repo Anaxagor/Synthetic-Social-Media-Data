{
 "nbformat": 4,
 "nbformat_minor": 2,
 "metadata": {
  "language_info": {
   "name": "python",
   "codemirror_mode": {
    "name": "ipython",
    "version": 3
   },
   "version": "3.6.6-final"
  },
  "orig_nbformat": 2,
  "file_extension": ".py",
  "mimetype": "text/x-python",
  "name": "python",
  "npconvert_exporter": "python",
  "pygments_lexer": "ipython3",
  "version": 3,
  "kernelspec": {
   "name": "python36664bitff322542fddd498cbdaed6c54435a902",
   "display_name": "Python 3.6.6 64-bit"
  }
 },
 "cells": [
  {
   "cell_type": "code",
   "execution_count": 1,
   "metadata": {},
   "outputs": [],
   "source": [
    "from hmmlearn.hmm import MultinomialHMM\n",
    "import pandas as pd\n",
    "import numpy as np\n",
    "import seaborn as sns"
   ]
  },
  {
   "cell_type": "code",
   "execution_count": 2,
   "metadata": {},
   "outputs": [
    {
     "output_type": "execute_result",
     "data": {
      "text/plain": "   age  sex  city  education_status        sds  relation  relatives\n0   36  1.0     1                 0  [0, 1, 0]       0.0          0\n1   31  1.0     2                 0  [0, 0, 0]       0.0          0\n2    0  1.0     2                 0  [0, 0, 0]       0.0          0\n3   31  2.0     1                 0  [0, 1, 0]       0.0          0\n4    0  2.0     2                 2  [0, 0, 0]       0.0          0\n5   36  2.0     2                 3  [0, 0, 0]       4.0          2\n6    0  2.0     2                 3  [1, 0, 0]       1.0          0\n7    0  1.0     2                 0  [0, 0, 0]       0.0          0\n8   29  1.0     2                 0  [0, 0, 0]       0.0          0\n9   30  1.0     2                 0  [0, 0, 0]       0.0          0",
      "text/html": "<div>\n<style scoped>\n    .dataframe tbody tr th:only-of-type {\n        vertical-align: middle;\n    }\n\n    .dataframe tbody tr th {\n        vertical-align: top;\n    }\n\n    .dataframe thead th {\n        text-align: right;\n    }\n</style>\n<table border=\"1\" class=\"dataframe\">\n  <thead>\n    <tr style=\"text-align: right;\">\n      <th></th>\n      <th>age</th>\n      <th>sex</th>\n      <th>city</th>\n      <th>education_status</th>\n      <th>sds</th>\n      <th>relation</th>\n      <th>relatives</th>\n    </tr>\n  </thead>\n  <tbody>\n    <tr>\n      <th>0</th>\n      <td>36</td>\n      <td>1.0</td>\n      <td>1</td>\n      <td>0</td>\n      <td>[0, 1, 0]</td>\n      <td>0.0</td>\n      <td>0</td>\n    </tr>\n    <tr>\n      <th>1</th>\n      <td>31</td>\n      <td>1.0</td>\n      <td>2</td>\n      <td>0</td>\n      <td>[0, 0, 0]</td>\n      <td>0.0</td>\n      <td>0</td>\n    </tr>\n    <tr>\n      <th>2</th>\n      <td>0</td>\n      <td>1.0</td>\n      <td>2</td>\n      <td>0</td>\n      <td>[0, 0, 0]</td>\n      <td>0.0</td>\n      <td>0</td>\n    </tr>\n    <tr>\n      <th>3</th>\n      <td>31</td>\n      <td>2.0</td>\n      <td>1</td>\n      <td>0</td>\n      <td>[0, 1, 0]</td>\n      <td>0.0</td>\n      <td>0</td>\n    </tr>\n    <tr>\n      <th>4</th>\n      <td>0</td>\n      <td>2.0</td>\n      <td>2</td>\n      <td>2</td>\n      <td>[0, 0, 0]</td>\n      <td>0.0</td>\n      <td>0</td>\n    </tr>\n    <tr>\n      <th>5</th>\n      <td>36</td>\n      <td>2.0</td>\n      <td>2</td>\n      <td>3</td>\n      <td>[0, 0, 0]</td>\n      <td>4.0</td>\n      <td>2</td>\n    </tr>\n    <tr>\n      <th>6</th>\n      <td>0</td>\n      <td>2.0</td>\n      <td>2</td>\n      <td>3</td>\n      <td>[1, 0, 0]</td>\n      <td>1.0</td>\n      <td>0</td>\n    </tr>\n    <tr>\n      <th>7</th>\n      <td>0</td>\n      <td>1.0</td>\n      <td>2</td>\n      <td>0</td>\n      <td>[0, 0, 0]</td>\n      <td>0.0</td>\n      <td>0</td>\n    </tr>\n    <tr>\n      <th>8</th>\n      <td>29</td>\n      <td>1.0</td>\n      <td>2</td>\n      <td>0</td>\n      <td>[0, 0, 0]</td>\n      <td>0.0</td>\n      <td>0</td>\n    </tr>\n    <tr>\n      <th>9</th>\n      <td>30</td>\n      <td>1.0</td>\n      <td>2</td>\n      <td>0</td>\n      <td>[0, 0, 0]</td>\n      <td>0.0</td>\n      <td>0</td>\n    </tr>\n  </tbody>\n</table>\n</div>"
     },
     "metadata": {},
     "execution_count": 2
    }
   ],
   "source": [
    "df = pd.read_csv('module1.csv')\n",
    "df.head(10)"
   ]
  },
  {
   "cell_type": "code",
   "execution_count": 3,
   "metadata": {},
   "outputs": [],
   "source": [
    "df = df.loc[(df['age'] != 0) & (df['age'] <= 60) & (df['sex'] != 0)]"
   ]
  },
  {
   "cell_type": "code",
   "execution_count": 4,
   "metadata": {},
   "outputs": [
    {
     "output_type": "execute_result",
     "data": {
      "text/plain": "age\n1    6765\n2    9359\n3    4289\n4    2732\n5    1236\n6     662\n7    1031\nName: age, dtype: int64"
     },
     "metadata": {},
     "execution_count": 4
    }
   ],
   "source": [
    "train_data = pd.DataFrame()\n",
    "train_data['age'] = df['age'].apply(lambda x: 1 if (x>= 13)&(x < 20) else x)\n",
    "train_data['age'] = train_data['age'].apply(lambda x: 2 if (x>= 20)&(x < 25) else x)\n",
    "train_data['age'] = train_data['age'].apply(lambda x: 3 if (x>= 25)&(x < 30) else x)\n",
    "train_data['age'] = train_data['age'].apply(lambda x: 4 if (x>= 30)&(x < 35) else x)\n",
    "train_data['age'] = train_data['age'].apply(lambda x: 5 if (x>= 35)&(x < 40) else x)\n",
    "train_data['age'] = train_data['age'].apply(lambda x: 6 if (x>= 40)&(x < 45) else x)\n",
    "train_data['age'] = train_data['age'].apply(lambda x: 7 if (x>= 45)&(x <= 60) else x)\n",
    "train_data.groupby(['age'])['age'].count()"
   ]
  },
  {
   "cell_type": "code",
   "execution_count": 5,
   "metadata": {},
   "outputs": [],
   "source": [
    "train_data['sex'] = df['sex']"
   ]
  },
  {
   "cell_type": "code",
   "execution_count": 6,
   "metadata": {},
   "outputs": [
    {
     "output_type": "execute_result",
     "data": {
      "text/plain": "array([1, 2, 3], dtype=int64)"
     },
     "metadata": {},
     "execution_count": 6
    }
   ],
   "source": [
    "train_data['city'] = df['city'].apply(lambda x: 3 if (x != 1)&(x != 2) else x)\n",
    "train_data['city'].unique()"
   ]
  },
  {
   "cell_type": "code",
   "execution_count": 7,
   "metadata": {},
   "outputs": [
    {
     "output_type": "execute_result",
     "data": {
      "text/plain": "array([1, 4, 2, 3, 5], dtype=int64)"
     },
     "metadata": {},
     "execution_count": 7
    }
   ],
   "source": [
    "train_data['edu'] = df['education_status']\n",
    "train_data['edu'] = train_data['edu'].apply(lambda x: x + 1)\n",
    "train_data['edu'].unique()"
   ]
  },
  {
   "cell_type": "code",
   "execution_count": 8,
   "metadata": {},
   "outputs": [
    {
     "output_type": "execute_result",
     "data": {
      "text/plain": "    age  sex  city  edu\n0     5    1     1    1\n1     4    1     2    1\n3     4    2     1    1\n5     5    2     2    4\n8     3    1     2    1\n9     4    1     2    1\n16    5    2     2    1\n18    4    2     2    1\n20    5    1     2    1\n25    4    1     1    1",
      "text/html": "<div>\n<style scoped>\n    .dataframe tbody tr th:only-of-type {\n        vertical-align: middle;\n    }\n\n    .dataframe tbody tr th {\n        vertical-align: top;\n    }\n\n    .dataframe thead th {\n        text-align: right;\n    }\n</style>\n<table border=\"1\" class=\"dataframe\">\n  <thead>\n    <tr style=\"text-align: right;\">\n      <th></th>\n      <th>age</th>\n      <th>sex</th>\n      <th>city</th>\n      <th>edu</th>\n    </tr>\n  </thead>\n  <tbody>\n    <tr>\n      <th>0</th>\n      <td>5</td>\n      <td>1</td>\n      <td>1</td>\n      <td>1</td>\n    </tr>\n    <tr>\n      <th>1</th>\n      <td>4</td>\n      <td>1</td>\n      <td>2</td>\n      <td>1</td>\n    </tr>\n    <tr>\n      <th>3</th>\n      <td>4</td>\n      <td>2</td>\n      <td>1</td>\n      <td>1</td>\n    </tr>\n    <tr>\n      <th>5</th>\n      <td>5</td>\n      <td>2</td>\n      <td>2</td>\n      <td>4</td>\n    </tr>\n    <tr>\n      <th>8</th>\n      <td>3</td>\n      <td>1</td>\n      <td>2</td>\n      <td>1</td>\n    </tr>\n    <tr>\n      <th>9</th>\n      <td>4</td>\n      <td>1</td>\n      <td>2</td>\n      <td>1</td>\n    </tr>\n    <tr>\n      <th>16</th>\n      <td>5</td>\n      <td>2</td>\n      <td>2</td>\n      <td>1</td>\n    </tr>\n    <tr>\n      <th>18</th>\n      <td>4</td>\n      <td>2</td>\n      <td>2</td>\n      <td>1</td>\n    </tr>\n    <tr>\n      <th>20</th>\n      <td>5</td>\n      <td>1</td>\n      <td>2</td>\n      <td>1</td>\n    </tr>\n    <tr>\n      <th>25</th>\n      <td>4</td>\n      <td>1</td>\n      <td>1</td>\n      <td>1</td>\n    </tr>\n  </tbody>\n</table>\n</div>"
     },
     "metadata": {},
     "execution_count": 8
    }
   ],
   "source": [
    "train_data.iloc[:, :] = train_data.iloc[:, :].astype(np.int32)\n",
    "train_data.head(10)"
   ]
  },
  {
   "cell_type": "code",
   "execution_count": 9,
   "metadata": {},
   "outputs": [
    {
     "output_type": "execute_result",
     "data": {
      "text/plain": "(26074, 4)"
     },
     "metadata": {},
     "execution_count": 9
    }
   ],
   "source": [
    "train_data.shape"
   ]
  },
  {
   "cell_type": "code",
   "execution_count": 10,
   "metadata": {},
   "outputs": [
    {
     "output_type": "execute_result",
     "data": {
      "text/plain": "(100, 4)"
     },
     "metadata": {},
     "execution_count": 10
    }
   ],
   "source": [
    "train_data = train_data.sample(50)\n",
    "train_data.shape"
   ]
  },
  {
   "cell_type": "code",
   "execution_count": 11,
   "metadata": {},
   "outputs": [],
   "source": [
    "from pomegranate import *\n",
    "\n",
    "\n",
    "observed_seq = train_data.values\n",
    "model = HiddenMarkovModel.from_samples(DiscreteDistribution, n_components=35,X=observed_seq,n_jobs=-1)"
   ]
  }
 ]
}